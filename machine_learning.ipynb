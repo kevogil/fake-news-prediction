{
 "cells": [
  {
   "cell_type": "code",
   "execution_count": 1,
   "id": "b024cd7b",
   "metadata": {},
   "outputs": [],
   "source": [
    "# Import dependencies\n",
    "import pandas as pd\n",
    "import matplotlib.pyplot as plt\n",
    "import seaborn as sns\n",
    "import psycopg2\n",
    "import sqlalchemy\n",
    "import numpy as np\n",
    "import re\n",
    "import nltk\n",
    "from nltk.corpus import stopwords"
   ]
  },
  {
   "cell_type": "code",
   "execution_count": 2,
   "id": "2c263970",
   "metadata": {},
   "outputs": [],
   "source": [
    "# Create connection to database\n",
    "from sqlalchemy import create_engine\n",
    "engine = psycopg2.connect(\n",
    "    database=\"project4DB\",\n",
    "    user=\"postgres\",\n",
    "    password=\"postgres\",\n",
    "    host=\"fake-news-prediction-db.citnkkc6ztdk.us-east-2.rds.amazonaws.com\",\n",
    "    port='5432'\n",
    ")"
   ]
  },
  {
   "cell_type": "code",
   "execution_count": 3,
   "id": "4cf7c9e4",
   "metadata": {},
   "outputs": [
    {
     "data": {
      "text/html": [
       "<div>\n",
       "<style scoped>\n",
       "    .dataframe tbody tr th:only-of-type {\n",
       "        vertical-align: middle;\n",
       "    }\n",
       "\n",
       "    .dataframe tbody tr th {\n",
       "        vertical-align: top;\n",
       "    }\n",
       "\n",
       "    .dataframe thead th {\n",
       "        text-align: right;\n",
       "    }\n",
       "</style>\n",
       "<table border=\"1\" class=\"dataframe\">\n",
       "  <thead>\n",
       "    <tr style=\"text-align: right;\">\n",
       "      <th></th>\n",
       "      <th>topic</th>\n",
       "      <th>news_date</th>\n",
       "      <th>label</th>\n",
       "      <th>combined_text</th>\n",
       "    </tr>\n",
       "  </thead>\n",
       "  <tbody>\n",
       "    <tr>\n",
       "      <th>0</th>\n",
       "      <td>News</td>\n",
       "      <td>2017-12-31</td>\n",
       "      <td>0.0</td>\n",
       "      <td>donald trump sends out embarrassing new years...</td>\n",
       "    </tr>\n",
       "    <tr>\n",
       "      <th>1</th>\n",
       "      <td>News</td>\n",
       "      <td>2017-12-31</td>\n",
       "      <td>0.0</td>\n",
       "      <td>drunk bragging trump staffer started russian ...</td>\n",
       "    </tr>\n",
       "    <tr>\n",
       "      <th>2</th>\n",
       "      <td>News</td>\n",
       "      <td>2017-12-30</td>\n",
       "      <td>0.0</td>\n",
       "      <td>sheriff david clarke becomes an internet joke...</td>\n",
       "    </tr>\n",
       "    <tr>\n",
       "      <th>3</th>\n",
       "      <td>News</td>\n",
       "      <td>2017-12-29</td>\n",
       "      <td>0.0</td>\n",
       "      <td>trump is so obsessed he even has obamas name ...</td>\n",
       "    </tr>\n",
       "    <tr>\n",
       "      <th>4</th>\n",
       "      <td>News</td>\n",
       "      <td>2017-12-25</td>\n",
       "      <td>0.0</td>\n",
       "      <td>pope francis just called out donald trump dur...</td>\n",
       "    </tr>\n",
       "    <tr>\n",
       "      <th>...</th>\n",
       "      <td>...</td>\n",
       "      <td>...</td>\n",
       "      <td>...</td>\n",
       "      <td>...</td>\n",
       "    </tr>\n",
       "    <tr>\n",
       "      <th>44862</th>\n",
       "      <td>worldnews</td>\n",
       "      <td>2017-08-22</td>\n",
       "      <td>1.0</td>\n",
       "      <td>headless torso could belong submarine journal...</td>\n",
       "    </tr>\n",
       "    <tr>\n",
       "      <th>44863</th>\n",
       "      <td>worldnews</td>\n",
       "      <td>2017-08-21</td>\n",
       "      <td>1.0</td>\n",
       "      <td>north korea shipment syria chemical arm agenc...</td>\n",
       "    </tr>\n",
       "    <tr>\n",
       "      <th>44864</th>\n",
       "      <td>worldnews</td>\n",
       "      <td>2017-08-22</td>\n",
       "      <td>1.0</td>\n",
       "      <td>fully committed nato back new us approach afg...</td>\n",
       "    </tr>\n",
       "    <tr>\n",
       "      <th>44865</th>\n",
       "      <td>worldnews</td>\n",
       "      <td>2017-08-22</td>\n",
       "      <td>1.0</td>\n",
       "      <td>lexisnexis withdrew two product chinese marke...</td>\n",
       "    </tr>\n",
       "    <tr>\n",
       "      <th>44866</th>\n",
       "      <td>worldnews</td>\n",
       "      <td>2017-08-22</td>\n",
       "      <td>1.0</td>\n",
       "      <td>indonesia buy 114 billion worth russian jet j...</td>\n",
       "    </tr>\n",
       "  </tbody>\n",
       "</table>\n",
       "<p>44867 rows × 4 columns</p>\n",
       "</div>"
      ],
      "text/plain": [
       "           topic   news_date  label  \\\n",
       "0           News  2017-12-31    0.0   \n",
       "1           News  2017-12-31    0.0   \n",
       "2           News  2017-12-30    0.0   \n",
       "3           News  2017-12-29    0.0   \n",
       "4           News  2017-12-25    0.0   \n",
       "...          ...         ...    ...   \n",
       "44862  worldnews  2017-08-22    1.0   \n",
       "44863  worldnews  2017-08-21    1.0   \n",
       "44864  worldnews  2017-08-22    1.0   \n",
       "44865  worldnews  2017-08-22    1.0   \n",
       "44866  worldnews  2017-08-22    1.0   \n",
       "\n",
       "                                           combined_text  \n",
       "0       donald trump sends out embarrassing new years...  \n",
       "1       drunk bragging trump staffer started russian ...  \n",
       "2       sheriff david clarke becomes an internet joke...  \n",
       "3       trump is so obsessed he even has obamas name ...  \n",
       "4       pope francis just called out donald trump dur...  \n",
       "...                                                  ...  \n",
       "44862   headless torso could belong submarine journal...  \n",
       "44863   north korea shipment syria chemical arm agenc...  \n",
       "44864   fully committed nato back new us approach afg...  \n",
       "44865   lexisnexis withdrew two product chinese marke...  \n",
       "44866   indonesia buy 114 billion worth russian jet j...  \n",
       "\n",
       "[44867 rows x 4 columns]"
      ]
     },
     "execution_count": 3,
     "metadata": {},
     "output_type": "execute_result"
    }
   ],
   "source": [
    "# Reading SQL tables into dataframes\n",
    "news_df = pd.read_sql('select * from news_df', engine)\n",
    "news_df.drop(['id'], axis=1, inplace=True)\n",
    "\n",
    "# View data\n",
    "news_df"
   ]
  },
  {
   "cell_type": "code",
   "execution_count": 4,
   "id": "39c02ee8",
   "metadata": {
    "scrolled": false
   },
   "outputs": [
    {
     "data": {
      "image/png": "[encoded data removed]",
      "text/plain": [
       "<Figure size 576x576 with 1 Axes>"
      ]
     },
     "metadata": {
      "needs_background": "light"
     },
     "output_type": "display_data"
    }
   ],
   "source": [
    "# Plotting number of news by topic\n",
    "plt.figure(figsize = (8, 8))\n",
    "sns.countplot(y = \"topic\", data = news_df, order = news_df['topic'].value_counts().index)\n",
    "plt.title('Number of News Instances by Topic')\n",
    "plt.show()"
   ]
  },
  {
   "cell_type": "code",
   "execution_count": 5,
   "id": "445797db",
   "metadata": {},
   "outputs": [
    {
     "name": "stdout",
     "output_type": "stream",
     "text": [
      "  (0, 224319)\t0.0680434987052605\n",
      "  (0, 224153)\t0.0833161977868531\n",
      "  (0, 224008)\t0.20090093440895995\n",
      "  (0, 223966)\t0.07279808413369786\n",
      "  (0, 223038)\t0.027309432739232586\n",
      "  (0, 222710)\t0.022995769240245698\n",
      "  (0, 222093)\t0.018872102012971462\n",
      "  (0, 222004)\t0.023488038180962116\n",
      "  (0, 221853)\t0.03302662264979421\n",
      "  (0, 221256)\t0.1640409745131494\n",
      "  (0, 220282)\t0.027627097922479305\n",
      "  (0, 220174)\t0.028043539371842056\n",
      "  (0, 219840)\t0.022961473292096867\n",
      "  (0, 219384)\t0.022445716224410616\n",
      "  (0, 219373)\t0.07557933831580894\n",
      "  (0, 219363)\t0.05236439482105218\n",
      "  (0, 219143)\t0.07557933831580894\n",
      "  (0, 216806)\t0.03379710110008687\n",
      "  (0, 215816)\t0.027793240033484875\n",
      "  (0, 212438)\t0.025555695926837017\n",
      "  (0, 208503)\t0.02929482980541418\n",
      "  (0, 208472)\t0.07872001302059041\n",
      "  (0, 206820)\t0.08215315181799486\n",
      "  (0, 201654)\t0.016255176229477364\n",
      "  (0, 201498)\t0.03224727261457633\n",
      "  :\t:\n",
      "  (44866, 51861)\t0.08325499300585433\n",
      "  (44866, 51085)\t0.08708298066685315\n",
      "  (44866, 49995)\t0.0393643094056153\n",
      "  (44866, 49741)\t0.2415611359483206\n",
      "  (44866, 48464)\t0.07906410701878508\n",
      "  (44866, 42291)\t0.11913585638187184\n",
      "  (44866, 39694)\t0.05456470522822411\n",
      "  (44866, 39423)\t0.10803429236644535\n",
      "  (44866, 33540)\t0.08599742956963023\n",
      "  (44866, 33432)\t0.06524702967960642\n",
      "  (44866, 27735)\t0.1564558612838029\n",
      "  (44866, 25887)\t0.06339374766232314\n",
      "  (44866, 25879)\t0.05839390136471745\n",
      "  (44866, 21716)\t0.03854738276671079\n",
      "  (44866, 21619)\t0.05317335465778147\n",
      "  (44866, 20599)\t0.02253170410216256\n",
      "  (44866, 18441)\t0.046047706234846185\n",
      "  (44866, 17693)\t0.10274315555259729\n",
      "  (44866, 16252)\t0.05460211456905354\n",
      "  (44866, 15140)\t0.07162008614410494\n",
      "  (44866, 11685)\t0.10567980389866904\n",
      "  (44866, 10357)\t0.11053741037288052\n",
      "  (44866, 4611)\t0.035641376173601844\n",
      "  (44866, 1061)\t0.19222683371991797\n",
      "  (44866, 925)\t0.04829083240682609\n"
     ]
    }
   ],
   "source": [
    "x_df = news_df['combined_text']\n",
    "y_df = news_df['label']\n",
    "\n",
    "# Vectorization is a methodology in NLP to map words or phrases from vocabulary to a corresponding vector of real numbers which is used to find word predictions, word similarities/semantics\n",
    "from sklearn.feature_extraction.text import TfidfTransformer\n",
    "from sklearn.feature_extraction.text import CountVectorizer\n",
    "from sklearn.feature_extraction.text import TfidfVectorizer\n",
    "count_vectorizer = CountVectorizer()\n",
    "count_vectorizer.fit_transform(x_df)\n",
    "freq_term_matrix = count_vectorizer.transform(x_df)\n",
    "\n",
    "tfidf = TfidfTransformer(norm = \"l2\")\n",
    "tfidf.fit(freq_term_matrix)\n",
    "tf_idf_matrix = tfidf.fit_transform(freq_term_matrix)\n",
    "\n",
    "print(tf_idf_matrix)"
   ]
  },
  {
   "cell_type": "code",
   "execution_count": 6,
   "id": "656a974d",
   "metadata": {},
   "outputs": [],
   "source": [
    "# Splitting data into test and train datasets\n",
    "from sklearn.model_selection import train_test_split\n",
    "X_train, X_test, y_train, y_test = train_test_split(tf_idf_matrix, y_df, random_state = 0)"
   ]
  },
  {
   "cell_type": "code",
   "execution_count": 7,
   "id": "59e2d279",
   "metadata": {},
   "outputs": [],
   "source": [
    "## Model 1 - Logistic Regression"
   ]
  },
  {
   "cell_type": "code",
   "execution_count": 8,
   "id": "d54ecdc4",
   "metadata": {},
   "outputs": [
    {
     "data": {
      "text/plain": [
       "LogisticRegression()"
      ]
     },
     "execution_count": 8,
     "metadata": {},
     "output_type": "execute_result"
    }
   ],
   "source": [
    "# Training the model\n",
    "from sklearn.linear_model import LogisticRegression\n",
    "model_1 = LogisticRegression()\n",
    "model_1.fit(X_train, y_train)"
   ]
  },
  {
   "cell_type": "code",
   "execution_count": 9,
   "id": "9af6ff61",
   "metadata": {},
   "outputs": [
    {
     "data": {
      "image/png": "[encoded data removed]",
      "text/plain": [
       "<Figure size 432x288 with 2 Axes>"
      ]
     },
     "metadata": {
      "needs_background": "light"
     },
     "output_type": "display_data"
    }
   ],
   "source": [
    "y_pred = model_1.predict(X_test)\n",
    "\n",
    "# Confusion matrix\n",
    "from sklearn.metrics import confusion_matrix\n",
    "cm = confusion_matrix(y_test, y_pred)\n",
    "\n",
    "new_cm = pd.DataFrame(cm , index = ['Fake','Real'] , columns = ['Fake','Real'])\n",
    "sns.heatmap(new_cm,cmap= 'Blues', annot = True, fmt='',xticklabels = ['Fake','Real'], yticklabels = ['Fake','Real'])\n",
    "plt.xlabel(\"Actual\")\n",
    "plt.ylabel(\"Predicted\")\n",
    "plt.title('Confusion Matrix')\n",
    "plt.show()"
   ]
  },
  {
   "cell_type": "code",
   "execution_count": 10,
   "id": "dce63797",
   "metadata": {},
   "outputs": [
    {
     "name": "stdout",
     "output_type": "stream",
     "text": [
      "Training data score: 0.9945616641901932\n",
      "Testing data score: 0.9911741107247928\n"
     ]
    }
   ],
   "source": [
    "model_1_name = \"Logistic Regression\"\n",
    "model_1_accuracy = \"{:.2%}\".format(model_1.score(X_test, y_test))\n",
    "\n",
    "# Print the model score\n",
    "print(f\"Training data score: {model_1.score(X_train, y_train)}\")\n",
    "print(f\"Testing data score: {model_1.score(X_test, y_test)}\")"
   ]
  },
  {
   "cell_type": "code",
   "execution_count": 11,
   "id": "5a37a8ab",
   "metadata": {},
   "outputs": [],
   "source": [
    "## Model 2 - Decision Tree Classifier"
   ]
  },
  {
   "cell_type": "code",
   "execution_count": 12,
   "id": "82748b54",
   "metadata": {},
   "outputs": [
    {
     "data": {
      "text/plain": [
       "DecisionTreeClassifier()"
      ]
     },
     "execution_count": 12,
     "metadata": {},
     "output_type": "execute_result"
    }
   ],
   "source": [
    "# Training the model\n",
    "from sklearn import tree\n",
    "model_2 = tree.DecisionTreeClassifier()\n",
    "model_2.fit(X_train, y_train)"
   ]
  },
  {
   "cell_type": "code",
   "execution_count": 13,
   "id": "8c01eae0",
   "metadata": {},
   "outputs": [
    {
     "name": "stdout",
     "output_type": "stream",
     "text": [
      "Training data score: 1.0\n",
      "Testing data score: 0.9961665329410716\n"
     ]
    }
   ],
   "source": [
    "model_2_name = \"Decision Tree\"\n",
    "model_2_accuracy = \"{:.2%}\".format(model_2.score(X_test, y_test))\n",
    "\n",
    "# Print the model score\n",
    "print(f\"Training data score: {model_2.score(X_train, y_train)}\")\n",
    "print(f\"Testing data score: {model_2.score(X_test, y_test)}\")"
   ]
  },
  {
   "cell_type": "code",
   "execution_count": 14,
   "id": "8abfb2d5",
   "metadata": {},
   "outputs": [],
   "source": [
    "## Model 3 - Naive Bayes Classifier"
   ]
  },
  {
   "cell_type": "code",
   "execution_count": 15,
   "id": "a19f488f",
   "metadata": {},
   "outputs": [
    {
     "data": {
      "text/plain": [
       "MultinomialNB()"
      ]
     },
     "execution_count": 15,
     "metadata": {},
     "output_type": "execute_result"
    }
   ],
   "source": [
    "# Training the model\n",
    "from sklearn.naive_bayes import MultinomialNB\n",
    "model_3 = MultinomialNB()\n",
    "model_3.fit(X_train, y_train)"
   ]
  },
  {
   "cell_type": "code",
   "execution_count": 16,
   "id": "9460367f",
   "metadata": {},
   "outputs": [
    {
     "name": "stdout",
     "output_type": "stream",
     "text": [
      "Training data score: 0.9585438335809807\n",
      "Testing data score: 0.9515021841847197\n"
     ]
    }
   ],
   "source": [
    "model_3_name = \"Naive Bayes\"\n",
    "model_3_accuracy = \"{:.2%}\".format(model_3.score(X_test, y_test))\n",
    "\n",
    "# Print the model score\n",
    "print(f\"Training data score: {model_3.score(X_train, y_train)}\")\n",
    "print(f\"Testing data score: {model_3.score(X_test, y_test)}\")"
   ]
  },
  {
   "cell_type": "code",
   "execution_count": 17,
   "id": "11ad4494",
   "metadata": {},
   "outputs": [
    {
     "name": "stdout",
     "output_type": "stream",
     "text": [
      "╒═════════════════════╤════════════╕\n",
      "│ Model               │ Accuracy   │\n",
      "╞═════════════════════╪════════════╡\n",
      "│ Logistic Regression │ 99.12%     │\n",
      "├─────────────────────┼────────────┤\n",
      "│ Decision Tree       │ 99.62%     │\n",
      "├─────────────────────┼────────────┤\n",
      "│ Naive Bayes         │ 95.15%     │\n",
      "╘═════════════════════╧════════════╛\n"
     ]
    }
   ],
   "source": [
    "# Summary table\n",
    "from tabulate import tabulate\n",
    "col_names = [\"Model\", \"Accuracy\"]\n",
    "table_data = [[model_1_name, model_1_accuracy],\n",
    "              [model_2_name, model_2_accuracy],\n",
    "              [model_3_name, model_3_accuracy]]\n",
    "\n",
    "print(tabulate(table_data, headers=col_names, tablefmt=\"fancy_grid\"))"
   ]
  },
  {
   "cell_type": "code",
   "execution_count": 18,
   "id": "6d04a4ea",
   "metadata": {},
   "outputs": [],
   "source": [
    "## Making a prediction"
   ]
  },
  {
   "cell_type": "code",
   "execution_count": 21,
   "id": "17dc23f5",
   "metadata": {},
   "outputs": [
    {
     "name": "stdout",
     "output_type": "stream",
     "text": [
      "The news in Real\n"
     ]
    }
   ],
   "source": [
    "X_new = X_test[2423]\n",
    "\n",
    "prediction = model_1.predict(X_new)\n",
    "\n",
    "if (prediction[0] == 0):\n",
    "  print('The news in Real')\n",
    "else:\n",
    "  print('The news is Fake and Unreliable')"
   ]
  },
  {
   "cell_type": "code",
   "execution_count": 22,
   "id": "f9e07b47",
   "metadata": {},
   "outputs": [],
   "source": [
    "# Export machine learning model\n",
    "import pickle\n",
    "\n",
    "# Logistic Regression\n",
    "filename = 'models/logistic_regression.sav'\n",
    "pickle.dump(model_1, open(filename, 'wb'))\n",
    "\n",
    "# Decision Tree\n",
    "filename = 'models/decision_trees.sav'\n",
    "pickle.dump(model_2, open(filename, 'wb'))\n",
    "\n",
    "# Naive Bayes\n",
    "filename = 'models/naive_bayes.sav'\n",
    "pickle.dump(model_3, open(filename, 'wb'))"
   ]
  },
  {
   "cell_type": "code",
   "execution_count": null,
   "id": "464e822a",
   "metadata": {},
   "outputs": [],
   "source": []
  },
  {
   "cell_type": "code",
   "execution_count": 19,
   "id": "421843e2",
   "metadata": {},
   "outputs": [],
   "source": [
    "def lemmatize_sentence(text):\n",
    "    import nltk\n",
    "    from nltk.corpus import stopwords\n",
    "    from nltk.stem import WordNetLemmatizer\n",
    "    from nltk import sent_tokenize, word_tokenize\n",
    "\n",
    "    stop_words = stopwords.words('english')\n",
    "    lemmatizer = WordNetLemmatizer()\n",
    "    sentence = \"\"\n",
    "    \n",
    "    # Tokenization\n",
    "    words = nltk.word_tokenize(text)\n",
    "    # Stopwords removal\n",
    "    words = [w for w in words if not w in stop_words]\n",
    "    # Lemmatization\n",
    "    for word in words:\n",
    "        sentence = sentence + ' ' + str(lemmatizer.lemmatize(word)).lower()\n",
    "        \n",
    "    sentence = [sentence]\n",
    "        \n",
    "    return sentence    "
   ]
  },
  {
   "cell_type": "code",
   "execution_count": 20,
   "id": "936e9c68",
   "metadata": {},
   "outputs": [],
   "source": [
    "def vectorize_sentence(sentence):\n",
    "    from sklearn.feature_extraction.text import TfidfTransformer\n",
    "    from sklearn.feature_extraction.text import CountVectorizer\n",
    "    from sklearn.feature_extraction.text import TfidfVectorizer\n",
    "    count_vectorizer = CountVectorizer()\n",
    "    count_vectorizer.fit_transform(sentence)\n",
    "    freq_term_matrix = count_vectorizer.transform(sentence)\n",
    "\n",
    "    tfidf = TfidfTransformer(norm = \"l2\")\n",
    "    tfidf.fit(freq_term_matrix)\n",
    "    tf_idf_matrix = tfidf.fit_transform(freq_term_matrix)\n",
    "    \n",
    "    return tf_idf_matrix"
   ]
  },
  {
   "cell_type": "code",
   "execution_count": null,
   "id": "f3909c8d",
   "metadata": {},
   "outputs": [],
   "source": [
    "# Ask for user input\n",
    "text = input (\"Type your text: \")"
   ]
  },
  {
   "cell_type": "code",
   "execution_count": null,
   "id": "3151bf36",
   "metadata": {},
   "outputs": [],
   "source": [
    "# Lemmatize\n",
    "lemmatized_text = lemmatize_sentence(text)\n",
    "\n",
    "# Vectorize\n",
    "vectorized_text = vectorize_sentence(lemmatized_text)"
   ]
  },
  {
   "cell_type": "code",
   "execution_count": null,
   "id": "ff3c1633",
   "metadata": {},
   "outputs": [],
   "source": [
    "# Make prediction\n",
    "prediction = model_1.predict(vectorized_text)\n",
    "\n",
    "if (prediction[0] == 0):\n",
    "  print('The news is Real.')\n",
    "else:\n",
    "  print('The news is Fake.')"
   ]
  },
  {
   "cell_type": "code",
   "execution_count": null,
   "id": "0fba9f81",
   "metadata": {},
   "outputs": [],
   "source": []
  }
 ],
 "metadata": {
  "kernelspec": {
   "display_name": "Python 3",
   "language": "python",
   "name": "python3"
  },
  "language_info": {
   "codemirror_mode": {
    "name": "ipython",
    "version": 3
   },
   "file_extension": ".py",
   "mimetype": "text/x-python",
   "name": "python",
   "nbconvert_exporter": "python",
   "pygments_lexer": "ipython3",
   "version": "3.8.8"
  }
 },
 "nbformat": 4,
 "nbformat_minor": 5
}
