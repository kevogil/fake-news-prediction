{
 "cells": [
  {
   "cell_type": "code",
   "execution_count": 1,
   "id": "df0fcdb7",
   "metadata": {},
   "outputs": [],
   "source": [
    "# Import dependencies\n",
    "import psycopg2\n",
    "import sqlalchemy\n",
    "import pandas as pd"
   ]
  },
  {
   "cell_type": "code",
   "execution_count": 2,
   "id": "e3e2004c",
   "metadata": {},
   "outputs": [],
   "source": [
    "# Create connection to database\n",
    "from sqlalchemy import create_engine\n",
    "engine = psycopg2.connect(\n",
    "    database=\"project4DB\",\n",
    "    user=\"postgres\",\n",
    "    password=\"postgres\",\n",
    "    host=\"fake-news-prediction-db.citnkkc6ztdk.us-east-2.rds.amazonaws.com\",\n",
    "    port='5432'\n",
    ")"
   ]
  },
  {
   "cell_type": "code",
   "execution_count": 3,
   "id": "ae0d2e54",
   "metadata": {},
   "outputs": [],
   "source": [
    "# Reading SQL tables into dataframes\n",
    "news_df = pd.read_sql('select * from news_df', engine)"
   ]
  },
  {
   "cell_type": "code",
   "execution_count": 4,
   "id": "7d6abdd4",
   "metadata": {},
   "outputs": [
    {
     "data": {
      "text/html": [
       "<div>\n",
       "<style scoped>\n",
       "    .dataframe tbody tr th:only-of-type {\n",
       "        vertical-align: middle;\n",
       "    }\n",
       "\n",
       "    .dataframe tbody tr th {\n",
       "        vertical-align: top;\n",
       "    }\n",
       "\n",
       "    .dataframe thead th {\n",
       "        text-align: right;\n",
       "    }\n",
       "</style>\n",
       "<table border=\"1\" class=\"dataframe\">\n",
       "  <thead>\n",
       "    <tr style=\"text-align: right;\">\n",
       "      <th></th>\n",
       "      <th>id</th>\n",
       "      <th>topic</th>\n",
       "      <th>news_date</th>\n",
       "      <th>label</th>\n",
       "      <th>combined_text</th>\n",
       "    </tr>\n",
       "  </thead>\n",
       "  <tbody>\n",
       "    <tr>\n",
       "      <th>0</th>\n",
       "      <td>1</td>\n",
       "      <td>News</td>\n",
       "      <td>2017-12-31</td>\n",
       "      <td>0.0</td>\n",
       "      <td>donald trump send embarrass new year eve messa...</td>\n",
       "    </tr>\n",
       "    <tr>\n",
       "      <th>1</th>\n",
       "      <td>2</td>\n",
       "      <td>News</td>\n",
       "      <td>2017-12-31</td>\n",
       "      <td>0.0</td>\n",
       "      <td>drunk brag trump staffer start russian collus ...</td>\n",
       "    </tr>\n",
       "    <tr>\n",
       "      <th>2</th>\n",
       "      <td>3</td>\n",
       "      <td>News</td>\n",
       "      <td>2017-12-30</td>\n",
       "      <td>0.0</td>\n",
       "      <td>sheriff david clark becom internet joke threat...</td>\n",
       "    </tr>\n",
       "    <tr>\n",
       "      <th>3</th>\n",
       "      <td>4</td>\n",
       "      <td>News</td>\n",
       "      <td>2017-12-29</td>\n",
       "      <td>0.0</td>\n",
       "      <td>trump obsess even obama name code websit imag ...</td>\n",
       "    </tr>\n",
       "    <tr>\n",
       "      <th>4</th>\n",
       "      <td>5</td>\n",
       "      <td>News</td>\n",
       "      <td>2017-12-25</td>\n",
       "      <td>0.0</td>\n",
       "      <td>pope franci call donald trump christma speech ...</td>\n",
       "    </tr>\n",
       "  </tbody>\n",
       "</table>\n",
       "</div>"
      ],
      "text/plain": [
       "   id topic   news_date  label  \\\n",
       "0   1  News  2017-12-31    0.0   \n",
       "1   2  News  2017-12-31    0.0   \n",
       "2   3  News  2017-12-30    0.0   \n",
       "3   4  News  2017-12-29    0.0   \n",
       "4   5  News  2017-12-25    0.0   \n",
       "\n",
       "                                       combined_text  \n",
       "0  donald trump send embarrass new year eve messa...  \n",
       "1  drunk brag trump staffer start russian collus ...  \n",
       "2  sheriff david clark becom internet joke threat...  \n",
       "3  trump obsess even obama name code websit imag ...  \n",
       "4  pope franci call donald trump christma speech ...  "
      ]
     },
     "execution_count": 4,
     "metadata": {},
     "output_type": "execute_result"
    }
   ],
   "source": [
    "news_df.head()"
   ]
  },
  {
   "cell_type": "code",
   "execution_count": null,
   "id": "414ce75b",
   "metadata": {},
   "outputs": [],
   "source": [
    "# Separate combined text and label values\n",
    "x = df['combined_text'].values\n",
    "y = df['label'].values"
   ]
  },
  {
   "cell_type": "code",
   "execution_count": 7,
   "id": "9e1ea3a2",
   "metadata": {},
   "outputs": [],
   "source": [
    "## TF-IDF\n",
    "# Term Frequency, Inverse Document Frequency\n",
    "# TF-IDF Vectorizer converts textual data to numerical data"
   ]
  },
  {
   "cell_type": "code",
   "execution_count": null,
   "id": "1e81d1b5",
   "metadata": {},
   "outputs": [],
   "source": [
    "# Create the transform\n",
    "vectorizer = TfidfVectorizer()\n",
    "# Tokenization\n",
    "vectorizer.fit(X)\n",
    "# Encode text as floating-point values for use as inputs in modeling algorithms (feature extraction)\n",
    "X_vect = vectorizer.transform(X)"
   ]
  }
 ],
 "metadata": {
  "kernelspec": {
   "display_name": "Python 3",
   "language": "python",
   "name": "python3"
  },
  "language_info": {
   "codemirror_mode": {
    "name": "ipython",
    "version": 3
   },
   "file_extension": ".py",
   "mimetype": "text/x-python",
   "name": "python",
   "nbconvert_exporter": "python",
   "pygments_lexer": "ipython3",
   "version": "3.8.8"
  }
 },
 "nbformat": 4,
 "nbformat_minor": 5
}
